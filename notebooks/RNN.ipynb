{
 "cells": [
  {
   "cell_type": "markdown",
   "metadata": {},
   "source": [
    "# RNN Implementation and Experiments\n",
    "\n",
    "This notebook demonstrates the RNN implementation and experiments for the IF3270 Machine Learning assignment. We'll work with the NusaX-Sentiment dataset to perform text classification."
   ]
  },
  {
   "cell_type": "code",
   "execution_count": null,
   "metadata": {},
   "source": [
    "import sys\n",
    "import os\n",
    "import numpy as np\n",
    "import matplotlib.pyplot as plt\n",
    "import tensorflow as tf\n",
    "from tensorflow.keras.models import Sequential, Model\n",
    "from tensorflow.keras.layers import Embedding, SimpleRNN, Dropout, Dense, Bidirectional\n",
    "from sklearn.metrics import f1_score, classification_report\n",
    "\n",
    "# Add the parent directory to the path to import our modules\n",
    "sys.path.append('..')\n",
    "\n",
    "from src.RNN.nusax_loader import NusaXLoader\n",
    "from src.RNN.experiments import RNNExperiments\n",
    "from src.RNN.rnn_model import RNNModel\n",
    "from src.RNN.layers.rnn_layer import RNNLayer\n",
    "from src.RNN.layers.embedding_layer import EmbeddingLayer\n",
    "from src.Base.layers.dense_layer import DenseLayer\n",
    "from src.Base.layers.dropout_layer import DropoutLayer\n",
    "from src.Base.layers.activation_layer import Softmax\n",
    "from src.Base.utils.evaluation import compare_keras_vs_scratch\n",
    "from src.Base.utils.visualization import plot_training_history"
   ]
  },
  {
   "cell_type": "markdown",
   "metadata": {},
   "source": [
    "## 1. Load and Explore the NusaX-Sentiment Dataset"
   ]
  },
  {
   "cell_type": "code",
   "execution_count": null,
   "metadata": {},
   "source": [
    "# Initialize the data loader\n",
    "data_loader = NusaXLoader(batch_size=32)\n",
    "\n",
    "# Get a batch of training data for visualization\n",
    "train_dataset = data_loader.get_dataset('train')\n",
    "for tokens, labels in train_dataset.take(1):\n",
    "    sample_tokens = tokens.numpy()\n",
    "    sample_labels = labels.numpy()\n",
    "    break\n",
    "\n",
    "# Get vocabulary\n",
    "vocab = data_loader.get_vocabulary()\n",
    "print(f\"Vocabulary size: {len(vocab)}\")\n",
    "print(f\"First 20 words in vocabulary: {vocab[:20]}\")\n",
    "\n",
    "# Decode a few examples\n",
    "print(\"\\nSample texts:\")\n",
    "for i in range(3):\n",
    "    # Convert token IDs back to words\n",
    "    words = [vocab[idx] if idx < len(vocab) else \"[UNK]\" for idx in sample_tokens[i] if idx > 0]\n",
    "    text = \" \".join(words)\n",
    "    print(f\"Text {i+1}: {text}\")\n",
    "    print(f\"Label: {sample_labels[i]}\\n\")"
   ]
  },
  {
   "cell_type": "markdown",
   "metadata": {},
   "source": [
    "## 2. Hyperparameter Experiments with RNN\n",
    "\n",
    "We'll run experiments to analyze the impact of different hyperparameters on RNN performance."
   ]
  },
  {
   "cell_type": "code",
   "execution_count": null,
   "metadata": {},
   "source": [
    "# Initialize the experiments class\n",
    "experiments = RNNExperiments(batch_size=32, epochs=10, embedding_dim=100)"
   ]
  },
  {
   "cell_type": "markdown",
   "metadata": {},
   "source": [
    "### 2.1 Experiment: Number of RNN Layers"
   ]
  },
  {
   "cell_type": "code",
   "execution_count": null,
   "metadata": {},
   "source": [
    "# Define variants for number of RNN layers\n",
    "layer_count_variants = [\n",
    "    (1, \"1 RNN Layer\"),\n",
    "    (2, \"2 RNN Layers\"),\n",
    "    (3, \"3 RNN Layers\")\n",
    "]\n",
    "\n",
    "# Run experiment\n",
    "layer_count_models, layer_count_histories = experiments.run_layer_count_experiment(layer_count_variants)"
   ]
  },
  {
   "cell_type": "markdown",
   "metadata": {},
   "source": [
    "### 2.2 Experiment: Number of RNN Cells per Layer"
   ]
  },
  {
   "cell_type": "code",
   "execution_count": null,
   "metadata": {},
   "source": [
    "# Define variants for cell counts\n",
    "cell_count_variants = [\n",
    "    ([64], \"64 Cells\"),\n",
    "    ([128], \"128 Cells\"),\n",
    "    ([256], \"256 Cells\")\n",
    "]\n",
    "\n",
    "# Run experiment\n",
    "cell_count_models, cell_count_histories = experiments.run_cell_count_experiment(cell_count_variants)"
   ]
  },
  {
   "cell_type": "markdown",
   "metadata": {},
   "source": [
    "### 2.3 Experiment: RNN Direction"
   ]
  },
  {
   "cell_type": "code",
   "execution_count": null,
   "metadata": {},
   "source": [
    "# Define variants for RNN direction\n",
    "direction_variants = [\n",
    "    (False, \"Unidirectional RNN\"),\n",
    "    (True, \"Bidirectional RNN\")\n",
    "]\n",
    "\n",
    "# Run experiment\n",
    "direction_models, direction_histories = experiments.run_direction_experiment(direction_variants)"
   ]
  },
  {
   "cell_type": "markdown",
   "metadata": {},
   "source": [
    "## 3. From-Scratch RNN Implementation\n",
    "\n",
    "Now we'll implement the RNN forward propagation from scratch and compare it with the Keras implementation."
   ]
  },
  {
   "cell_type": "markdown",
   "metadata": {},
   "source": [
    "### 3.1 Choose and Save a Keras Model"
   ]
  },
  {
   "cell_type": "code",
   "execution_count": null,
   "metadata": {},
   "source": [
    "# Choose one of the trained models (e.g., from the bidirectional experiment)\n",
    "keras_model = direction_models[1][0]  # Bidirectional RNN model\n",
    "\n",
    "# Summary of the chosen model\n",
    "keras_model.summary()\n",
    "\n",
    "# Save the model weights\n",
    "keras_model.save_weights('rnn_model_weights.h5')"
   ]
  },
  {
   "cell_type": "markdown",
   "metadata": {},
   "source": [
    "### 3.2 Create From-Scratch RNN Model"
   ]
  },
  {
   "cell_type": "code",
   "execution_count": null,
   "metadata": {},
   "source": [
    "# Get embedding dimension and vocabulary size\n",
    "embedding_dim = 100\n",
    "vocab_size = len(data_loader.get_vocabulary())\n",
    "hidden_dim = 128\n",
    "num_classes = data_loader.num_classes\n",
    "sequence_length = data_loader.max_sequence_length\n",
    "\n",
    "# Create a from-scratch RNN model that matches the Keras model\n",
    "scratch_model = RNNModel()\n",
    "\n",
    "# Add layers corresponding to the Keras model architecture\n",
    "scratch_model.add(EmbeddingLayer(input_dim=vocab_size, output_dim=embedding_dim))\n",
    "scratch_model.add(RNNLayer(input_dim=embedding_dim, hidden_dim=hidden_dim, bidirectional=True))\n",
    "scratch_model.add(DropoutLayer(dropout_rate=0.2))\n",
    "scratch_model.add(DenseLayer(input_dim=hidden_dim*2, output_dim=num_classes, activation=Softmax()))"
   ]
  },
  {
   "cell_type": "markdown",
   "metadata": {},
   "source": [
    "### 3.3 Load Weights from Keras Model"
   ]
  },
  {
   "cell_type": "code",
   "execution_count": null,
   "metadata": {},
   "source": [
    "# Load weights from the Keras model\n",
    "scratch_model.load_weights_from_keras(keras_model)\n",
    "\n",
    "print(\"Weights loaded from Keras model to from-scratch implementation.\")"
   ]
  },
  {
   "cell_type": "markdown",
   "metadata": {},
   "source": [
    "### 3.4 Compare Predictions from Keras and From-Scratch Models"
   ]
  },
  {
   "cell_type": "code",
   "execution_count": null,
   "metadata": {},
   "source": [
    "# Get test data\n",
    "x_test, y_test = data_loader.get_vectorized_data('test')\n",
    "\n",
    "# Compare predictions\n",
    "comparison = compare_keras_vs_scratch(keras_model, scratch_model, x_test, y_test, batch_size=32)\n",
    "\n",
    "print(\"\\nKeras Model Metrics:\")\n",
    "print(f\"Accuracy: {comparison['keras_metrics']['accuracy']:.4f}\")\n",
    "print(f\"Macro F1-Score: {comparison['keras_metrics']['macro_f1']:.4f}\")\n",
    "\n",
    "print(\"\\nFrom-Scratch Model Metrics:\")\n",
    "print(f\"Accuracy: {comparison['scratch_metrics']['accuracy']:.4f}\")\n",
    "print(f\"Macro F1-Score: {comparison['scratch_metrics']['macro_f1']:.4f}\")\n",
    "\n",
    "print(f\"\\nModel Agreement: {comparison['model_agreement']:.4f}\")"
   ]
  },
  {
   "cell_type": "markdown",
   "metadata": {},
   "source": [
    "### 3.5 Visualize Predictions on Sample Texts"
   ]
  },
  {
   "cell_type": "code",
   "execution_count": null,
   "metadata": {},
   "source": [
    "# Get a few test samples\n",
    "num_samples = 5\n",
    "sample_indices = np.random.choice(x_test.shape[0], num_samples, replace=False)\n",
    "sample_texts = x_test[sample_indices]\n",
    "sample_labels = y_test[sample_indices]\n",
    "\n",
    "# Make predictions with both models\n",
    "keras_preds = np.argmax(keras_model.predict(sample_texts), axis=1)\n",
    "scratch_preds = scratch_model.predict(sample_texts)\n",
    "\n",
    "# Define sentiment labels\n",
    "sentiment_labels = [\"Negative\", \"Neutral\", \"Positive\"]\n",
    "\n",
    "# Visualize the results\n",
    "for i in range(num_samples):\n",
    "    # Convert token IDs back to words\n",
    "    words = [vocab[idx] if idx < len(vocab) else \"[UNK]\" for idx in sample_texts[i] if idx > 0]\n",
    "    text = \" \".join(words)\n",
    "    \n",
    "    # Show true label and predictions\n",
    "    keras_correct = keras_preds[i] == sample_labels[i]\n",
    "    scratch_correct = scratch_preds[i] == sample_labels[i]\n",
    "    \n",
    "    print(f\"\\nText: {text[:100]}{'...' if len(text) > 100 else ''}\")\n",
    "    print(f\"True sentiment: {sentiment_labels[sample_labels[i]]}\")\n",
    "    print(f\"Keras prediction: {sentiment_labels[keras_preds[i]]} {'✓' if keras_correct else '✗'}\")\n",
    "    print(f\"Scratch prediction: {sentiment_labels[scratch_preds[i]]} {'✓' if scratch_correct else '✗'}\")"
   ]
  },
  {
   "cell_type": "markdown",
   "metadata": {},
   "source": [
    "## 4. Analysis and Conclusions\n",
    "\n",
    "Based on our experiments, we can draw the following conclusions about RNN hyperparameters:"
   ]
  },
  {
   "cell_type": "markdown",
   "metadata": {},
   "source": [
    "### 4.1 Effect of Number of RNN Layers\n",
    "\n",
    "[Placeholder for your analysis]"
   ]
  },
  {
   "cell_type": "markdown",
   "metadata": {},
   "source": [
    "### 4.2 Effect of RNN Cell Count per Layer\n",
    "\n",
    "[Placeholder for your analysis]"
   ]
  },
  {
   "cell_type": "markdown",
   "metadata": {},
   "source": [
    "### 4.3 Effect of Bidirectional vs Unidirectional RNN\n",
    "\n",
    "[Placeholder for your analysis]"
   ]
  },
  {
   "cell_type": "markdown",
   "metadata": {},
   "source": [
    "### 4.4 From-Scratch Implementation Analysis\n",
    "\n",
    "[Placeholder for your analysis of the from-scratch implementation compared to Keras]"
   ]
  }
 ],
 "metadata": {
  "kernelspec": {
   "display_name": "Python 3",
   "language": "python",
   "name": "python3"
  },
  "language_info": {
   "codemirror_mode": {
    "name": "ipython",
    "version": 3
   },
   "file_extension": ".py",
   "mimetype": "text/x-python",
   "name": "python",
   "nbconvert_exporter": "python",
   "pygments_lexer": "ipython3",
   "version": "3.8.10"
  }
 },
 "nbformat": 4,
 "nbformat_minor": 4
}